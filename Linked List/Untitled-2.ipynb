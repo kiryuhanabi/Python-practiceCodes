{
 "cells": [
  {
   "cell_type": "code",
   "execution_count": 2,
   "metadata": {},
   "outputs": [
    {
     "name": "stdout",
     "output_type": "stream",
     "text": [
      "Current size of the stack is: 0\n",
      "True\n",
      "[1, 2, 3, 4, 5, 6, 7, 8]\n",
      "8\n",
      "[1, 2, 3, 4, 5, 6, 7]\n",
      "7\n"
     ]
    }
   ],
   "source": [
    "class stack:\n",
    "    def __init__(self):\n",
    "        self.stackList=[]\n",
    "\n",
    "    def size(self):\n",
    "        return len(self.stackList)\n",
    "\n",
    "    def isEmpty(self):\n",
    "        if self.size() == 0:\n",
    "            return True\n",
    "        else:\n",
    "            return False\n",
    "        #shortcut --> if self.size() returns true, it will change this to false because of the not operator. if self.size() returns false, it will change to true.\n",
    "        # return not self.size()\n",
    "\n",
    "    def push(self,data):\n",
    "        self.stackList.append(data)\n",
    "\n",
    "    def pop(self):\n",
    "        if self.isEmpty() == True:\n",
    "            return 'The stack is empty'\n",
    "        else:\n",
    "            self.stackList.pop()\n",
    "\n",
    "    def peek(self):\n",
    "        if self.isEmpty() == True:\n",
    "            return 'The stack is empty'\n",
    "        else:\n",
    "            return self.stackList[-1]\n",
    "\n",
    "    def printStack(self):\n",
    "        if self.isEmpty() == True:\n",
    "            print('The stack is empty')\n",
    "        else:\n",
    "            print(self.stackList)\n",
    "\n",
    "\n",
    "\n",
    "\n",
    "\n",
    "\n",
    "myStack = stack()\n",
    "print(f'Current size of the stack is: {myStack.size()}')\n",
    "print(myStack.isEmpty())\n",
    "myStack.push(1)\n",
    "myStack.push(2)\n",
    "myStack.push(3)\n",
    "myStack.push(4)\n",
    "myStack.push(5)\n",
    "myStack.push(6)\n",
    "myStack.push(7)\n",
    "myStack.push(8)\n",
    "myStack.printStack()\n",
    "print(myStack.peek())\n",
    "myStack.pop()\n",
    "myStack.printStack()\n",
    "print(myStack.peek())"
   ]
  },
  {
   "cell_type": "code",
   "execution_count": 11,
   "metadata": {},
   "outputs": [
    {
     "name": "stdout",
     "output_type": "stream",
     "text": [
      "N : 78\n",
      "O : 79\n",
      "L : 76\n",
      "E : 69\n",
      "M : 77\n",
      "R : 82\n",
      "E : 69\n",
      "T : 84\n",
      "A : 65\n",
      "W : 87\n"
     ]
    }
   ],
   "source": [
    "def print_rev(input):\n",
    "    s = stack()\n",
    "    for i in input:\n",
    "        s.push(i)\n",
    "    for i in range(s.size()):\n",
    "        print(s.peek(),\":\",ord(s.peek()))\n",
    "        s.pop()\n",
    "print_rev(\"WATERMELON\")"
   ]
  },
  {
   "cell_type": "code",
   "execution_count": 4,
   "metadata": {},
   "outputs": [
    {
     "name": "stdout",
     "output_type": "stream",
     "text": [
      "[4, 10, 6, 7, 8]\n",
      "[10, 6, 7, 8, 4]\n"
     ]
    }
   ],
   "source": [
    "def largestontop(myStack):\n",
    "    helpings = stack()\n",
    "    while myStack.isEmpty()!=True:\n",
    "        val = myStack.peek()\n",
    "        max = 0\n",
    "        \n",
    "        if val>max:\n",
    "            max=val\n",
    "        helpings.push(val)\n",
    "        myStack.pop()\n",
    "    while helpings.isEmpty()!=True:\n",
    "        val1 = helpings.peek()\n",
    "        \n",
    "        if val1!=max:\n",
    "            myStack.push(val1)\n",
    "        helpings.pop()\n",
    "        \n",
    "        \n",
    "        \n",
    "    myStack.push(max)\n",
    "\n",
    "    return myStack\n",
    "\n",
    "\n",
    "\n",
    "\n",
    "\n",
    "\n",
    "\n",
    "myStack = stack()\n",
    "# myStack.push(1)\n",
    "# myStack.push(2)\n",
    "# myStack.push(3)\n",
    "myStack.push(4)\n",
    "myStack.push(10)\n",
    "myStack.push(6)\n",
    "myStack.push(7)\n",
    "myStack.push(8)\n",
    "myStack.printStack()\n",
    "s=largestontop(myStack)\n",
    "s.printStack()\n"
   ]
  },
  {
   "cell_type": "code",
   "execution_count": 17,
   "metadata": {},
   "outputs": [
    {
     "name": "stdout",
     "output_type": "stream",
     "text": [
      "['Data', 'Structure', 'development', 'for', 'important', 'is', 'software']\n"
     ]
    }
   ],
   "source": [
    "s = \"Data Structure is important for software development\"\n",
    "words = s.split()\n",
    "words.sort()\n",
    "print(words)"
   ]
  },
  {
   "cell_type": "markdown",
   "metadata": {},
   "source": []
  },
  {
   "cell_type": "code",
   "execution_count": 20,
   "metadata": {},
   "outputs": [
    {
     "name": "stdout",
     "output_type": "stream",
     "text": [
      "6\n"
     ]
    }
   ],
   "source": [
    "n = int(input())\n",
    "x = int(input())\n",
    "sum = 0\n",
    "for i in range(1,n+1):\n",
    "    sum += x**i\n",
    "print(sum)\n",
    "    "
   ]
  },
  {
   "cell_type": "markdown",
   "metadata": {},
   "source": [
    "1-2+3-4....."
   ]
  },
  {
   "cell_type": "code",
   "execution_count": null,
   "metadata": {},
   "outputs": [],
   "source": [
    "n =int(input())\n",
    "sum = 0\n",
    "for i in range(1,n+1):\n",
    "    if i%2==0:\n",
    "        sum-=i\n",
    "    else:\n",
    "        sum+=i"
   ]
  },
  {
   "cell_type": "code",
   "execution_count": 21,
   "metadata": {},
   "outputs": [
    {
     "name": "stdout",
     "output_type": "stream",
     "text": [
      "10\n",
      "9\n",
      "8\n",
      "7\n",
      "6\n",
      "5\n",
      "4\n",
      "3\n",
      "2\n",
      "1\n"
     ]
    }
   ],
   "source": [
    "n = int(input())\n",
    "for i in range(10,0,-1):\n",
    "    sum+=(n/i)\n",
    "    n+=2\n",
    "    "
   ]
  },
  {
   "cell_type": "code",
   "execution_count": 24,
   "metadata": {},
   "outputs": [
    {
     "data": {
      "text/plain": [
       "True"
      ]
     },
     "execution_count": 24,
     "metadata": {},
     "output_type": "execute_result"
    }
   ],
   "source": [
    "def rev(n):\n",
    "    rev = str(n)\n",
    "    if rev == rev[::-1]:\n",
    "        return True\n",
    "    return False\n",
    "rev(1221)"
   ]
  },
  {
   "cell_type": "code",
   "execution_count": 32,
   "metadata": {},
   "outputs": [
    {
     "name": "stdout",
     "output_type": "stream",
     "text": [
      "          * \n",
      "        * * * \n",
      "      * * * * * \n",
      "    * * * * * * * \n",
      "  * * * * * * * * * \n"
     ]
    }
   ],
   "source": [
    "n = 5\n",
    "for i in range(n):\n",
    "    for j in range(n-i):\n",
    "        print(\" \",end=\" \")\n",
    "    \n",
    "    for j in range(i):\n",
    "        print(\"*\",end=\" \")\n",
    "    \n",
    "    for j in range(i+1):\n",
    "        print(\"*\",end=\" \")\n",
    "    print()\n",
    "    \n",
    "\n",
    "\n",
    "    "
   ]
  }
 ],
 "metadata": {
  "kernelspec": {
   "display_name": "Python 3",
   "language": "python",
   "name": "python3"
  },
  "language_info": {
   "codemirror_mode": {
    "name": "ipython",
    "version": 3
   },
   "file_extension": ".py",
   "mimetype": "text/x-python",
   "name": "python",
   "nbconvert_exporter": "python",
   "pygments_lexer": "ipython3",
   "version": "3.11.4"
  }
 },
 "nbformat": 4,
 "nbformat_minor": 2
}
