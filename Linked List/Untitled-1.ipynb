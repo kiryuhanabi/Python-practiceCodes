{
 "cells": [
  {
   "cell_type": "code",
   "execution_count": 32,
   "metadata": {},
   "outputs": [],
   "source": [
    "class Node:\n",
    "  def __init__(self, data):\n",
    "    self.data = data\n",
    "    self.next = None\n",
    "\n",
    "class SinglyLinkedList:\n",
    "  def __init__(self):\n",
    "    self.head = None\n",
    "    self.size = 0\n",
    "\n",
    "# Append data to the end of the linked list; naive approach\n",
    "  def append(self, new_data):\n",
    "    new_node = Node(new_data)\n",
    "    if self.head is None:\n",
    "      self.head = new_node\n",
    "    else:\n",
    "      current_node = self.head\n",
    "      while current_node.next is not None:\n",
    "        current_node = current_node.next\n",
    "      current_node.next = new_node\n",
    "    self.size += 1\n",
    "\n",
    "# print the linked list\n",
    "  def print_all(self):\n",
    "    print(\"List:\")\n",
    "    current_node = self.head\n",
    "    while current_node!=None:\n",
    "      if(current_node.next == None):\n",
    "        print(current_node.data)\n",
    "      else:\n",
    "        print(current_node.data, end='->>')\n",
    "      current_node = current_node.next\n",
    "\n",
    "\n",
    "# search a specific value in the linked list\n",
    "  def search(self, data):\n",
    "    current_node = self.head\n",
    "    while current_node is not None:\n",
    "      if current_node.data == data:\n",
    "        return True\n",
    "      current_node = current_node.next\n",
    "    return False"
   ]
  },
  {
   "cell_type": "code",
   "execution_count": 12,
   "metadata": {},
   "outputs": [
    {
     "name": "stdout",
     "output_type": "stream",
     "text": [
      "List:\n",
      "1->>2->>3\n",
      "average : 2.0\n"
     ]
    }
   ],
   "source": [
    "def getaverage(Head):\n",
    "    current_node = Head\n",
    "    sum = 0 \n",
    "    count = 0\n",
    "    if current_node == None:\n",
    "        print(\"Empty\")\n",
    "        return None\n",
    "    else:\n",
    "        while current_node!=None:\n",
    "            sum += current_node.data\n",
    "            count += 1\n",
    "            current_node = current_node.next\n",
    "        return sum/count\n",
    "    \n",
    "s = SinglyLinkedList()\n",
    "s.append(1)\n",
    "s.append(2)\n",
    "s.append(3)\n",
    "s.print_all()\n",
    "avg = getaverage(s.head)\n",
    "print(\"average :\", str(avg))\n",
    "    "
   ]
  },
  {
   "cell_type": "code",
   "execution_count": 15,
   "metadata": {},
   "outputs": [
    {
     "name": "stdout",
     "output_type": "stream",
     "text": [
      "List:\n",
      "1->>2->>1\n",
      "2\n"
     ]
    }
   ],
   "source": [
    "def numberofoccurences(Head,value):\n",
    "    current_node = Head\n",
    "    count = 0\n",
    "    if current_node == None:\n",
    "        print(\"empty\")\n",
    "        return None\n",
    "    else:\n",
    "        while current_node !=None:\n",
    "            if current_node.data == value:\n",
    "                count +=1\n",
    "            current_node= current_node.next\n",
    "    return count\n",
    "\n",
    "s = SinglyLinkedList()\n",
    "s.append(1)\n",
    "s.append(2)\n",
    "s.append(1)\n",
    "s.print_all()\n",
    "total =  numberofoccurences(s.head, 1)\n",
    "print(total)\n"
   ]
  },
  {
   "cell_type": "code",
   "execution_count": 29,
   "metadata": {},
   "outputs": [
    {
     "name": "stdout",
     "output_type": "stream",
     "text": [
      "True\n",
      "False\n"
     ]
    }
   ],
   "source": [
    "def isidentical(list1, list2):\n",
    "  identical = True\n",
    "  if list1.size!=list2.size:\n",
    "    return False\n",
    "  else:\n",
    "    if list1.size!=0 and list2.size!=0:\n",
    "      current_node1 = list1.head\n",
    "      current_node2 = list2.head\n",
    "\n",
    "      while current_node1 is not None:\n",
    "        if current_node1.data == current_node2.data:\n",
    "          identical = True\n",
    "        else:\n",
    "          identical = False\n",
    "          return identical\n",
    "        current_node1 = current_node1.next\n",
    "        current_node2 = current_node2.next\n",
    "\n",
    "  return identical\n",
    "\n",
    "s1 = SinglyLinkedList()\n",
    "s1.append(7)\n",
    "s1.append(6)\n",
    "s1.append(10)\n",
    "s1.append(11)\n",
    "s2 = SinglyLinkedList()\n",
    "s2.append(7)\n",
    "s2.append(6)\n",
    "s2.append(10)\n",
    "s2.append(11)\n",
    "print(isidentical(s1,s2))\n",
    "s3 = SinglyLinkedList()\n",
    "s3.append(7)\n",
    "s3.append(6)\n",
    "s3.append(11)\n",
    "print(isidentical(s1,s3))\n",
    "\n",
    "\n",
    "    "
   ]
  },
  {
   "cell_type": "code",
   "execution_count": 3,
   "metadata": {},
   "outputs": [
    {
     "data": {
      "text/plain": [
       "24"
      ]
     },
     "execution_count": 3,
     "metadata": {},
     "output_type": "execute_result"
    }
   ],
   "source": [
    "def fact(n):\n",
    "    if n==0:\n",
    "        return 1\n",
    "    return n*fact(n-1)\n",
    "fact(4)"
   ]
  }
 ],
 "metadata": {
  "kernelspec": {
   "display_name": "Python 3",
   "language": "python",
   "name": "python3"
  },
  "language_info": {
   "codemirror_mode": {
    "name": "ipython",
    "version": 3
   },
   "file_extension": ".py",
   "mimetype": "text/x-python",
   "name": "python",
   "nbconvert_exporter": "python",
   "pygments_lexer": "ipython3",
   "version": "3.11.4"
  },
  "orig_nbformat": 4
 },
 "nbformat": 4,
 "nbformat_minor": 2
}
