{
 "cells": [
  {
   "cell_type": "code",
   "execution_count": 1,
   "metadata": {},
   "outputs": [
    {
     "name": "stdout",
     "output_type": "stream",
     "text": [
      "Mahbub 1\n",
      "Mahbub 2\n",
      "Mahbub 3\n",
      "Mahbub 4\n",
      "Mahbub 5\n",
      "Mahbub 6\n",
      "Mahbub 7\n",
      "Mahbub 8\n",
      "Mahbub 9\n",
      "Mahbub 10\n",
      "Mahbub 11\n",
      "Mahbub 12\n",
      "Mahbub 13\n",
      "Mahbub 14\n",
      "Mahbub 15\n"
     ]
    }
   ],
   "source": [
    "def printtimes(str, n):\n",
    "  if(n == 0):\n",
    "    return\n",
    "  else:\n",
    "\n",
    "\n",
    "    printtimes(str, n-1)\n",
    "    print(str, n)\n",
    "\n",
    "\n",
    "\n",
    "\n",
    "printtimes(\"Mahbub\", 15)"
   ]
  },
  {
   "cell_type": "code",
   "execution_count": 2,
   "metadata": {},
   "outputs": [
    {
     "name": "stdout",
     "output_type": "stream",
     "text": [
      "RECURSION\n",
      "It recurs\n",
      "9\n",
      "RECURSION\n",
      "It recurs\n",
      "8\n",
      "RECURSION\n",
      "It recurs\n",
      "7\n",
      "RECURSION\n",
      "It recurs\n",
      "6\n",
      "RECURSION\n",
      "It recurs\n",
      "5\n",
      "RECURSION\n",
      "It recurs\n",
      "4\n",
      "RECURSION\n",
      "It recurs\n",
      "3\n",
      "RECURSION\n",
      "It recurs\n",
      "2\n",
      "RECURSION\n",
      "It recurs\n",
      "1\n",
      "RECURSION\n",
      "It recurs\n",
      "0\n"
     ]
    }
   ],
   "source": [
    "def f(i):\n",
    "  if (i > 9):          #Base case\n",
    "    return\n",
    "  else:\n",
    "\n",
    "    f(i+1)          #Recursive case\n",
    "    print(\"RECURSION\")  #Works to do\n",
    "    print(\"It recurs\")  #Works to do\n",
    "    print (i)\n",
    "\n",
    "\n",
    "\n",
    "f(0)"
   ]
  },
  {
   "cell_type": "code",
   "execution_count": 3,
   "metadata": {},
   "outputs": [
    {
     "name": "stdout",
     "output_type": "stream",
     "text": [
      "42\n"
     ]
    }
   ],
   "source": [
    "A = [4, 6, 9, 1, 9, 10, 3]\n",
    "def sumR(A):\n",
    " if len(A) == 0:\n",
    "   return 0\n",
    " else:\n",
    "   return A[0] + sumR(A[1:len(A)])\n",
    "print(sumR(A))"
   ]
  },
  {
   "cell_type": "code",
   "execution_count": 7,
   "metadata": {},
   "outputs": [
    {
     "name": "stdout",
     "output_type": "stream",
     "text": [
      "koob a ma i\n"
     ]
    }
   ],
   "source": [
    "s = \"i am a book\"\n",
    "x = s[::-1]\n",
    "print(x)  "
   ]
  },
  {
   "cell_type": "code",
   "execution_count": 8,
   "metadata": {},
   "outputs": [
    {
     "name": "stdout",
     "output_type": "stream",
     "text": [
      "io\n"
     ]
    }
   ],
   "source": [
    "s = \"i\"\n",
    "k = \"o\"\n",
    "print(s+k)"
   ]
  },
  {
   "cell_type": "code",
   "execution_count": 14,
   "metadata": {},
   "outputs": [
    {
     "name": "stdout",
     "output_type": "stream",
     "text": [
      "True\n"
     ]
    }
   ],
   "source": [
    "def palindrome(str):\n",
    "    str=str.upper()\n",
    "    if len(str)==1:\n",
    "        return True\n",
    "    else:\n",
    "        return  str[0]==str[-1] and palindrome(str[1:-1]) #If the first and last characters are indeed the same, it means that the string could potentially be a palindrome, but we need to continue checking the rest of the string (excluding the first and last characters). That's why the and operator is used here.\n",
    "                                            #the slicing part is excluding the first and last character  \n",
    "\n",
    "a=palindrome(\"racecar\")\n",
    "print(a)"
   ]
  },
  {
   "cell_type": "markdown",
   "metadata": {},
   "source": [
    "sum of even numbers"
   ]
  },
  {
   "cell_type": "code",
   "execution_count": 9,
   "metadata": {},
   "outputs": [
    {
     "name": "stdout",
     "output_type": "stream",
     "text": [
      "6\n"
     ]
    }
   ],
   "source": [
    "def findsum_even(n):\n",
    "    if n < 0:\n",
    "        print(\"Wrong input\")\n",
    "\n",
    "    if n == 0:  # Correct base case for even numbers. For odd it's n==1\n",
    "        return 0\n",
    "    else:\n",
    "        if n%2!=0:\n",
    "            n=n-1 # Adjust n to the previous even number if it's odd\n",
    "\n",
    "        return n + findsum_even(n - 2)\n",
    "\n",
    "# Driver code\n",
    "n = 5\n",
    "s = findsum_even(n)\n",
    "print(s)"
   ]
  },
  {
   "cell_type": "code",
   "execution_count": 4,
   "metadata": {},
   "outputs": [
    {
     "name": "stdout",
     "output_type": "stream",
     "text": [
      "[-13, 23, 79, 93, -2, 63, 40, 24, 64]\n",
      "finiding  of minimum num recursively: 93\n",
      "finiding  of minimum num iteratively: 93\n"
     ]
    }
   ],
   "source": [
    "import random\n",
    "def maxRec(arr, n):\n",
    "  if n == 0:\n",
    "    return\n",
    "  if n ==1:\n",
    "    return arr[-1]\n",
    "  n-=1\n",
    "  max = maxRec(arr, n)\n",
    "  if max > arr[n-1]:\n",
    "    return max\n",
    "  else:\n",
    "    return arr[n-1]\n",
    "\n",
    "def maxItr(arr,n):\n",
    "    max= arr[n-1]\n",
    "    while n>0:\n",
    "        if max < arr[n-1]:\n",
    "            max = arr[n-1]\n",
    "        n-=1\n",
    "    return max\n",
    "\n",
    "\n",
    "\n",
    "\n",
    "num = []\n",
    "for _ in range(10):\n",
    "  n = random.randint(-20,100)\n",
    "  if n not in num:\n",
    "    num.append(n)\n",
    "\n",
    "\n",
    "print(num)\n",
    "max = maxRec(num,len(num))\n",
    "print(f'finiding  of minimum num recursively: {max}')\n",
    "max1 = maxItr(num,len(num))\n",
    "print(f'finiding  of minimum num iteratively: {max1}')"
   ]
  },
  {
   "cell_type": "code",
   "execution_count": null,
   "metadata": {},
   "outputs": [],
   "source": [
    "def gcd(a,b):\n",
    "\n",
    "  if b==0:\n",
    "    return a\n",
    "  else:\n",
    "    return gcd(b,a%b)\n",
    "\n",
    "x = gcd(4,6)\n",
    "print(x)\n",
    "\n",
    "#def lcm(a,b):\n",
    "    #return (a*b)//gcd(a,b)"
   ]
  },
  {
   "cell_type": "code",
   "execution_count": null,
   "metadata": {},
   "outputs": [],
   "source": []
  }
 ],
 "metadata": {
  "kernelspec": {
   "display_name": "Python 3",
   "language": "python",
   "name": "python3"
  },
  "language_info": {
   "codemirror_mode": {
    "name": "ipython",
    "version": 3
   },
   "file_extension": ".py",
   "mimetype": "text/x-python",
   "name": "python",
   "nbconvert_exporter": "python",
   "pygments_lexer": "ipython3",
   "version": "3.11.4"
  },
  "orig_nbformat": 4
 },
 "nbformat": 4,
 "nbformat_minor": 2
}
