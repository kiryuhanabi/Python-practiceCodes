{
 "cells": [
  {
   "cell_type": "code",
   "execution_count": 2,
   "metadata": {},
   "outputs": [
    {
     "name": "stdout",
     "output_type": "stream",
     "text": [
      "3\n",
      "5\n",
      "7\n",
      "8\n",
      "9\n",
      "10\n",
      "11\n",
      "13\n",
      "15\n",
      "16\n",
      "17\n",
      "number of nodes: 11\n",
      "3\n",
      "13\n",
      "17\n",
      "-----------------\n",
      "found\n"
     ]
    }
   ],
   "source": [
    "c = 0\n",
    "leafnodes = []\n",
    "\n",
    "class Node:\n",
    "  def __init__(self, data):\n",
    "    self.data = data\n",
    "    self.right_child = None\n",
    "    self.left_child = None\n",
    "\n",
    "class BinarySearchTree:\n",
    "  def __init__(self):\n",
    "    self.root = None\n",
    "\n",
    "  def insert(self,data):\n",
    "    newnode = Node(data)\n",
    "    if self.root == None:\n",
    "        self.root = newnode\n",
    "    else:\n",
    "        current = self.root\n",
    "        parent = None\n",
    "        while current:\n",
    "           parent = current\n",
    "           if newnode.data<=current.data:\n",
    "              current = current.left_child\n",
    "           else:\n",
    "              current = current.right_child\n",
    "        if newnode.data<=parent.data:\n",
    "           parent.left_child = newnode\n",
    "        else:\n",
    "           parent.right_child = newnode\n",
    "  \n",
    "  def inorder(self,node):\n",
    "     if node is None:\n",
    "        return \n",
    "     else:\n",
    "        self.inorder(node.left_child)\n",
    "        print(node.data)\n",
    "        self.inorder(node.right_child)\n",
    "  \n",
    "  def countR(self,node):\n",
    "     if node is None:\n",
    "        return 0\n",
    "     else:\n",
    "        return 1+ self.countR(node.left_child)+self.countR(node.right_child)\n",
    "     \n",
    "  def printoddleaves(self,node):\n",
    "     if node is None:\n",
    "        return\n",
    "     else:\n",
    "        self.printoddleaves(node.left_child)\n",
    "        if node.left_child == None and node.right_child == None:\n",
    "           if node.data % 2 !=0:\n",
    "              print(node.data)\n",
    "        self.printoddleaves(node.right_child)\n",
    "\n",
    "  def search(self,node,data):\n",
    "     global c\n",
    "     if node is None:\n",
    "        return \n",
    "     else:\n",
    "        self.search(node.left_child,data)\n",
    "        if node.data == data:\n",
    "           print(\"found\")\n",
    "        self.search(node.right_child,data)\n",
    "\n",
    "bst = BinarySearchTree()\n",
    "\n",
    "num = [7, 15, 9, 8, 10, 5, 3, 16, 11, 13,  17]\n",
    "for i in range (0,len(num)):\n",
    "\n",
    "      bst.insert( num[i])\n",
    "\n",
    "bst.inorder(bst.root)\n",
    "print(\"number of nodes:\",bst.countR(bst.root))\n",
    "\n",
    "bst.printoddleaves(bst.root)\n",
    "\n",
    "print(\"-----------------\")\n",
    "\n",
    "bst.search(bst.root,9)"
   ]
  },
  {
   "cell_type": "code",
   "execution_count": 36,
   "metadata": {},
   "outputs": [
    {
     "data": {
      "text/plain": [
       "[[7], [5, 15], [3, 9, 16], [8, 10, 17], [11], [13]]"
      ]
     },
     "execution_count": 36,
     "metadata": {},
     "output_type": "execute_result"
    }
   ],
   "source": [
    "import collections\n",
    "\n",
    "\n",
    "def printlevels(node):\n",
    "    ans = []\n",
    "    if node is None:\n",
    "        return ans\n",
    "    queue = collections.deque()\n",
    "    queue.append(node)\n",
    "\n",
    "    while queue:\n",
    "        nodesize = len(queue)\n",
    "        l = []\n",
    "        while nodesize>0:\n",
    "\n",
    "            currnode = queue.popleft()\n",
    "            l.append(currnode.data)\n",
    "            nodesize -=1\n",
    "\n",
    "            if currnode.left_child !=None:\n",
    "                queue.append(currnode.left_child)\n",
    "            if currnode.right_child != None:\n",
    "                queue.append(currnode.right_child)\n",
    "        \n",
    "        ans.append(l)\n",
    "    \n",
    "    return ans\n",
    "\n",
    "printlevels(bst.root)"
   ]
  },
  {
   "cell_type": "code",
   "execution_count": 37,
   "metadata": {},
   "outputs": [
    {
     "data": {
      "text/plain": [
       "[7, 15, 16, 17, 11, 13]"
      ]
     },
     "execution_count": 37,
     "metadata": {},
     "output_type": "execute_result"
    }
   ],
   "source": [
    "import collections\n",
    "\n",
    "\n",
    "def printlevels(node):\n",
    "    ans = []\n",
    "    if node is None:\n",
    "        return ans\n",
    "    queue = collections.deque()\n",
    "    queue.append(node)\n",
    "\n",
    "    while queue:\n",
    "        nodesize = len(queue)\n",
    "        l = []\n",
    "        while nodesize>0:\n",
    "\n",
    "            currnode = queue.popleft()\n",
    "            l.append(currnode.data)\n",
    "            nodesize -=1\n",
    "\n",
    "            if currnode.left_child !=None:\n",
    "                queue.append(currnode.left_child)\n",
    "            if currnode.right_child != None:\n",
    "                queue.append(currnode.right_child)\n",
    "        \n",
    "        ans.append(max(l))\n",
    "    \n",
    "    return ans\n",
    "\n",
    "printlevels(bst.root)"
   ]
  },
  {
   "cell_type": "code",
   "execution_count": 46,
   "metadata": {},
   "outputs": [
    {
     "data": {
      "text/plain": [
       "['odd', 'even', 'odd', 'odd']"
      ]
     },
     "execution_count": 46,
     "metadata": {},
     "output_type": "execute_result"
    }
   ],
   "source": [
    "v_1 = \"even\"\n",
    "v_2 = \"odd\"\n",
    "l = []\n",
    "\n",
    "def isleafevenodd(node):\n",
    "    global v_1\n",
    "    global v_2\n",
    "    global l\n",
    "    \n",
    "    if node is None:\n",
    "        return\n",
    "    else:\n",
    "        isleafevenodd(node.left_child)\n",
    "        if node.left_child == None and node.right_child== None:\n",
    "            if node.data %2 == 0:\n",
    "                l.append(v_1)\n",
    "            else:\n",
    "                l.append(v_2)\n",
    "        isleafevenodd(node.right_child)\n",
    "\n",
    "    return l\n",
    "\n",
    "isleafevenodd(bst.root)\n"
   ]
  },
  {
   "cell_type": "code",
   "execution_count": 64,
   "metadata": {},
   "outputs": [
    {
     "data": {
      "text/plain": [
       "True"
      ]
     },
     "execution_count": 64,
     "metadata": {},
     "output_type": "execute_result"
    }
   ],
   "source": [
    "def isduplicate(root1,root2):\n",
    "    if root1 == None and root2 == None:\n",
    "        return True\n",
    "    elif root1 == None and root2!= None:\n",
    "        return False\n",
    "    elif root1!= None and root2== None:\n",
    "        return False\n",
    "    \n",
    "    else:\n",
    "        return root1.data == root2.data and isduplicate(root1.left_child,root2.left_child) and isduplicate(root1.right_child,root2.right_child)\n",
    "\n",
    "\n",
    "bst1 = BinarySearchTree()\n",
    "\n",
    "num = [7, 15, 9, 8, 10, 5, 3, 16, 11, 13,  17]\n",
    "for i in range (0,len(num)):\n",
    "     bst1.insert(num[i])\n",
    "\n",
    "bst2 = BinarySearchTree()\n",
    "\n",
    "num = [7, 15, 9, 8, 10, 5, 3, 16, 11, 13,  17]\n",
    "for i in range (0,len(num)):\n",
    "     bst2.insert(num[i])\n",
    "\n",
    "\n",
    "isduplicate(bst1.root,bst2.root)"
   ]
  },
  {
   "cell_type": "code",
   "execution_count": 6,
   "metadata": {},
   "outputs": [
    {
     "data": {
      "text/plain": [
       "False"
      ]
     },
     "execution_count": 6,
     "metadata": {},
     "output_type": "execute_result"
    }
   ],
   "source": [
    "def findmin(node):\n",
    "    current = node\n",
    "    while current.left_child:\n",
    "        current = current.left_child\n",
    "    return current\n",
    "def findmax(node):\n",
    "    current = node\n",
    "    while current.right_child:\n",
    "        current = current.right_child\n",
    "    return current\n",
    "\n",
    "def isBst(node):\n",
    "    if node is None:\n",
    "        return True\n",
    "    if node.left_child!= None and findmax(node.right_child).data > node.data:\n",
    "        return False\n",
    "    if node.right_child!= None and findmin(node.left_child).data <node.data:\n",
    "        return False\n",
    "    else:\n",
    "        return isBst(node.left_child) and isBst(node.right_child)\n",
    "    \n",
    "\n",
    "bst1 = BinarySearchTree()\n",
    "\n",
    "num = [7, 15, 9, 8, 10, 5, 3, 16, 11, 13,  17]\n",
    "for i in range (0,len(num)):\n",
    "     bst1.insert(num[i])\n",
    "\n",
    "isBst(bst1.root)"
   ]
  }
 ],
 "metadata": {
  "kernelspec": {
   "display_name": "Python 3",
   "language": "python",
   "name": "python3"
  },
  "language_info": {
   "codemirror_mode": {
    "name": "ipython",
    "version": 3
   },
   "file_extension": ".py",
   "mimetype": "text/x-python",
   "name": "python",
   "nbconvert_exporter": "python",
   "pygments_lexer": "ipython3",
   "version": "3.11.4"
  }
 },
 "nbformat": 4,
 "nbformat_minor": 2
}
