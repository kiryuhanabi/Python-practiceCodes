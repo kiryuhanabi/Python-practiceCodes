{
 "cells": [
  {
   "cell_type": "code",
   "execution_count": 21,
   "metadata": {},
   "outputs": [
    {
     "name": "stdout",
     "output_type": "stream",
     "text": [
      "{1: 'arif', 2: ['azad'], 3: 'arif'}\n",
      "dict_keys([1, 2, 3])\n",
      "dict_values(['arif', ['azad'], 'arif'])\n",
      "{1: 'arif', 2: ['azad'], 3: 'arif', 4: 'mahbub'}\n",
      "{1: 'arif', 3: 'arif', 4: 'mahbub'}\n",
      "arif\n"
     ]
    }
   ],
   "source": [
    "students = { 1 : \"arif\" , 2 : [\"azad\"] , 3 : \"arif\"}\n",
    "\n",
    "print(students)\n",
    "\n",
    "print(students.keys())\n",
    "print(students.values())\n",
    "\n",
    "students.update({4: \"mahbub\"})\n",
    "print(students)\n",
    "\n",
    "students.pop(2)\n",
    "print(students)\n",
    "\n",
    "print(students[1])"
   ]
  },
  {
   "cell_type": "code",
   "execution_count": 8,
   "metadata": {},
   "outputs": [
    {
     "name": "stdout",
     "output_type": "stream",
     "text": [
      "Counter({'1': 4, '2': 3})\n"
     ]
    }
   ],
   "source": [
    "from collections import Counter \n",
    "l = [\"1\",\"1\",\"1\",\"1\",\"2\",\"2\",\"2\"]\n",
    "print(Counter(l))"
   ]
  },
  {
   "cell_type": "code",
   "execution_count": 5,
   "metadata": {},
   "outputs": [
    {
     "name": "stdout",
     "output_type": "stream",
     "text": [
      "{'a': ['c', 'd', 'e'], 'b': [], 'c': ['a', 'e'], 'd': ['a', 'e'], 'e': ['a', 'c', 'd']}\n",
      "-------------------\n",
      "a : ['c', 'd', 'e']\n",
      "b : []\n",
      "c : ['a', 'e']\n",
      "d : ['a', 'e']\n",
      "e : ['a', 'c', 'd']\n",
      "outdegree of a is 3\n",
      "outdegree of b is 0\n",
      "outdegree of c is 2\n",
      "outdegree of d is 2\n",
      "outdegree of e is 3\n",
      "['c', 'd', 'e', 'a', 'e', 'a', 'e', 'a', 'c', 'd']\n",
      "indegree of a : 3\n",
      "indegree of b : 0\n",
      "indegree of c : 2\n",
      "indegree of d : 2\n",
      "indegree of e : 3\n"
     ]
    }
   ],
   "source": [
    "from collections import Counter\n",
    "\n",
    "graph = dict()\n",
    "\n",
    "graph[\"a\"] = [\"c\",\"d\",\"e\"]\n",
    "graph[\"b\"] = []\n",
    "graph[\"c\"] = [\"a\",\"e\"]\n",
    "graph[\"d\"] = [\"a\",\"e\"]\n",
    "graph[\"e\"] = [\"a\",\"c\",\"d\"]\n",
    "\n",
    "print(graph)\n",
    "\n",
    "print(\"-------------------\")\n",
    "\n",
    "for x in graph:\n",
    "    print(x,\":\",graph[x])\n",
    "\n",
    "for x in graph:\n",
    "    print(\"outdegree of\",x,\"is\",len(graph[x]))\n",
    "\n",
    "merged = []\n",
    "for x in graph:\n",
    "    merged += graph[x]\n",
    "\n",
    "print(merged)\n",
    "indegree = Counter(merged)\n",
    "\n",
    "for x in graph:\n",
    "    print(\"indegree of\",x,\":\",indegree[x])"
   ]
  },
  {
   "cell_type": "code",
   "execution_count": 3,
   "metadata": {},
   "outputs": [
    {
     "name": "stdout",
     "output_type": "stream",
     "text": [
      "{'a': ['c', 'd', 'e'], 'b': [], 'c': ['a', 'e'], 'd': ['a', 'e'], 'e': ['a', 'c', 'd']}\n",
      "-------------------\n",
      "a : ['c', 'd', 'e']\n",
      "b : []\n",
      "c : ['a', 'e']\n",
      "d : ['a', 'e']\n",
      "e : ['a', 'c', 'd']\n",
      "outdegree of a : 3\n",
      "outdegree of b : 0\n",
      "outdegree of c : 2\n",
      "outdegree of d : 2\n",
      "outdegree of e : 3\n",
      "['c', 'd', 'e', 'a', 'e', 'a', 'e', 'a', 'c', 'd']\n",
      "Counter({'e': 3, 'a': 3, 'c': 2, 'd': 2})\n",
      "indegree of  c : 2\n",
      "indegree of  d : 2\n",
      "indegree of  e : 3\n",
      "indegree of  a : 3\n",
      "undirected\n",
      "5.0\n",
      "0.5\n",
      "sparse\n",
      "zero indegree node: b\n",
      "max indegree nodes:  ['a', 'e']    max outdegree nodes :  ['a', 'e']\n"
     ]
    }
   ],
   "source": [
    "from collections import Counter\n",
    "\n",
    "graph = dict()\n",
    "\n",
    "graph[\"a\"] = [\"c\",\"d\",\"e\"]\n",
    "graph[\"b\"] = []\n",
    "graph[\"c\"] = [\"a\",\"e\"]\n",
    "graph[\"d\"] = [\"a\",\"e\"]\n",
    "graph[\"e\"] = [\"a\",\"c\",\"d\"]\n",
    "\n",
    "print(graph)\n",
    "\n",
    "print(\"-------------------\")\n",
    "\n",
    "for x in graph:\n",
    "    print(x,\":\",graph[x])\n",
    "\n",
    "for x in graph:\n",
    "    print(\"outdegree of\",x,\":\",len(graph[x]))\n",
    "\n",
    "merged_list = []\n",
    "\n",
    "for x in graph:\n",
    "    merged_list += graph[x]\n",
    "\n",
    "print(merged_list)\n",
    "\n",
    "indegree = Counter(merged_list)\n",
    "print(indegree)\n",
    "\n",
    "for x in indegree:\n",
    "    print(\"indegree of \",x,\":\",indegree[x])\n",
    "\n",
    "if  indegree[x] == len(graph[x]):\n",
    "    print(\"undirected\")\n",
    "else:\n",
    "    print(\"directed\")\n",
    "\n",
    "\n",
    "c = 0\n",
    "n=0\n",
    "for x in graph:\n",
    "    n+=1\n",
    "    c += len(graph[x])\n",
    "\n",
    "edges = c/2\n",
    "print(edges)\n",
    "\n",
    "max_edges = (n*(n-1))/2\n",
    "\n",
    "density = edges/max_edges\n",
    "\n",
    "print(density)\n",
    "\n",
    "if density <=0.5:\n",
    "    print(\"sparse\")\n",
    "else:\n",
    "    print(\"dense\")\n",
    "\n",
    "\n",
    "\n",
    "def printzeroindegreenode(graph):\n",
    "    for x in graph:\n",
    "        if indegree[x] == 0:\n",
    "            print(\"zero indegree node:\",x)\n",
    "    return\n",
    "printzeroindegreenode(graph)    \n",
    "\n",
    "def maxinoutdegree(graph):\n",
    "    maxoutdegree = []\n",
    "    maxout = -1\n",
    "    for x in graph:\n",
    "        if len(graph[x])>=maxout:\n",
    "            maxout = len(graph[x])\n",
    "            maxoutdegree.append(x)\n",
    "    maxindegree = []\n",
    "    maxin = -1\n",
    "    for x in graph:\n",
    "        if indegree[x]>=maxin:\n",
    "            maxin = indegree[x]\n",
    "            maxindegree.append(x)\n",
    "    return print(\"max indegree nodes: \",maxindegree,\"   max outdegree nodes : \",maxoutdegree)\n",
    "\n",
    "\n",
    "maxinoutdegree(graph)\n",
    "\n",
    "\n"
   ]
  },
  {
   "cell_type": "code",
   "execution_count": 23,
   "metadata": {},
   "outputs": [
    {
     "name": "stdout",
     "output_type": "stream",
     "text": [
      "mutual friends between a and e :\n",
      "['c', 'd']\n"
     ]
    }
   ],
   "source": [
    "def mutualfriends(n1,n2):\n",
    "    c = 0\n",
    "    l1 = []\n",
    "    l2 = []\n",
    "    l1 = graph[n1]\n",
    "    l2 = graph[n2]\n",
    "    mutualist = []\n",
    "\n",
    "    for x in l1:\n",
    "        if x in l2:\n",
    "            mutualist.append(x)\n",
    "            c +=1\n",
    "    if c ==0:\n",
    "        print(\"no mutual friends between\",n1,\"and\",n2)\n",
    "    else:\n",
    "        print(\"mutual friends between\",n1,\"and\",n2,\":\") \n",
    "        print(mutualist)\n",
    "\n",
    "mutualfriends(\"a\",\"e\")\n"
   ]
  },
  {
   "cell_type": "code",
   "execution_count": 24,
   "metadata": {},
   "outputs": [
    {
     "name": "stdout",
     "output_type": "stream",
     "text": [
      "a : ['c', 'd', 'e']\n",
      "b : []\n",
      "c : ['a', 'e']\n",
      "d : ['a', 'e', 'f']\n",
      "e : ['a', 'c', 'd']\n",
      "f : ['d']\n"
     ]
    }
   ],
   "source": [
    "graph[\"f\"] = []\n",
    "graph[\"f\"] = [\"d\"]\n",
    "graph[\"d\"].append(\"f\")\n",
    "\n",
    "for x in graph:\n",
    "    print(x,\":\",graph[x])"
   ]
  },
  {
   "cell_type": "code",
   "execution_count": 25,
   "metadata": {},
   "outputs": [
    {
     "name": "stdout",
     "output_type": "stream",
     "text": [
      "mutual friends between e and f :\n",
      "['d']\n"
     ]
    }
   ],
   "source": [
    "mutualfriends(\"e\",\"f\")"
   ]
  },
  {
   "cell_type": "code",
   "execution_count": 75,
   "metadata": {},
   "outputs": [
    {
     "name": "stdout",
     "output_type": "stream",
     "text": [
      "[0, 0, 1, 1, 1]\n",
      "[0, 0, 0, 0, 0]\n",
      "[1, 0, 0, 0, 1]\n",
      "[1, 0, 0, 0, 1]\n",
      "[1, 0, 1, 1, 0]\n",
      "outdegree of 0 : 3\n",
      "outdegree of 1 : 0\n",
      "outdegree of 2 : 2\n",
      "outdegree of 3 : 2\n",
      "outdegree of 4 : 3\n",
      "indegree of 0 : 3\n",
      "indegree of 1 : 0\n",
      "indegree of 2 : 2\n",
      "indegree of 3 : 2\n",
      "indegree of 4 : 3\n"
     ]
    }
   ],
   "source": [
    "n = 5\n",
    "nodes = [\"a\",\"b\",\"c\",\"d\",\"e\"]\n",
    "graph = [[0 for i in range(n)]for j in range(n)]\n",
    "\n",
    "graph[0][2] = 1\n",
    "graph[0][3] = 1\n",
    "graph[0][4] = 1\n",
    "\n",
    "graph[2][0] = 1\n",
    "graph[2][4] = 1\n",
    "\n",
    "graph[3][0] = 1\n",
    "graph[3][4] = 1\n",
    "\n",
    "graph[4][0] = 1\n",
    "graph[4][2] = 1\n",
    "graph[4][3] = 1\n",
    "\n",
    "for x in graph:\n",
    "    print(x)\n",
    "\n",
    "\n",
    "for i in range(0,n):\n",
    "    outdegree = 0\n",
    "    for j in range(0,n):\n",
    "        outdegree += graph[i][j]\n",
    "    print(\"outdegree of\",i,\":\",outdegree)\n",
    "\n",
    "\n",
    "for i in range(0,n):\n",
    "    indegree = 0\n",
    "    for j in range(0,n):\n",
    "        indegree += graph[j][i]\n",
    "    print(\"indegree of\",i,\":\",indegree)\n",
    "\n",
    "\n",
    "\n",
    "def isundirected(M):\n",
    "    for i in range(len(M)):\n",
    "        for j in range(len(M[0])):\n",
    "            if M[i][j] == M[j][i]:\n",
    "                return 'undirected'\n",
    "    return 'directed'\n",
    "            \n",
    "\n",
    "isundirected(graph)"
   ]
  },
  {
   "cell_type": "code",
   "execution_count": 74,
   "metadata": {},
   "outputs": [
    {
     "name": "stdout",
     "output_type": "stream",
     "text": [
      "[0, 1, 1, 0, 1]\n",
      "[0, 0, 0, 0, 0]\n",
      "[0, 0, 0, 0, 0]\n",
      "[1, 0, 0, 0, 0]\n",
      "[0, 0, 1, 1, 0]\n",
      "Outdegree of  0 : 3\n",
      "Outdegree of  1 : 0\n",
      "Outdegree of  2 : 0\n",
      "Outdegree of  3 : 1\n",
      "Outdegree of  4 : 2\n",
      "Indegree of  0 : 1\n",
      "Indegree of  1 : 1\n",
      "Indegree of  2 : 2\n",
      "Indegree of  3 : 1\n",
      "Indegree of  4 : 1\n"
     ]
    }
   ],
   "source": [
    "n = 5\n",
    "node_name = ['a', 'b', 'c', 'd', 'e']\n",
    "graph = [[0 for i in range(n)] for j in range(n)]\n",
    "graph[0][1] = 1\n",
    "graph[0][2] = 1\n",
    "graph[0][4] = 1\n",
    "graph[3][0] = 1\n",
    "graph[4][2] = 1\n",
    "graph[4][3] = 1\n",
    "\n",
    "\n",
    "\n",
    "for x in graph:\n",
    "  print(x)\n",
    "\n",
    "for i in range(0, n):\n",
    "    sumRow = 0\n",
    "    for j in range(0, n):\n",
    "        sumRow = sumRow + graph[i][j]\n",
    "    print(\"Outdegree of \" , i ,\":\", sumRow)\n",
    "\n",
    "\n",
    "for i in range(0, n):\n",
    "    sumCol = 0\n",
    "    for j in range(0, n):\n",
    "        sumCol = sumCol + graph[j][i]\n",
    "    print(\"Indegree of \" , i ,\":\", sumCol)\n",
    "\n",
    "    "
   ]
  }
 ],
 "metadata": {
  "kernelspec": {
   "display_name": "Python 3",
   "language": "python",
   "name": "python3"
  },
  "language_info": {
   "codemirror_mode": {
    "name": "ipython",
    "version": 3
   },
   "file_extension": ".py",
   "mimetype": "text/x-python",
   "name": "python",
   "nbconvert_exporter": "python",
   "pygments_lexer": "ipython3",
   "version": "3.11.4"
  }
 },
 "nbformat": 4,
 "nbformat_minor": 2
}
