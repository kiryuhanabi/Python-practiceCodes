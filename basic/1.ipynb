{
 "cells": [
  {
   "cell_type": "code",
   "execution_count": 1,
   "metadata": {},
   "outputs": [
    {
     "name": "stdout",
     "output_type": "stream",
     "text": [
      "2\n"
     ]
    }
   ],
   "source": [
    "a = int(input())\n",
    "print(a)"
   ]
  },
  {
   "cell_type": "code",
   "execution_count": 1,
   "metadata": {},
   "outputs": [
    {
     "name": "stdout",
     "output_type": "stream",
     "text": [
      "3\n"
     ]
    }
   ],
   "source": [
    "a , b = map(int,input().split())\n",
    "print(a+b)"
   ]
  },
  {
   "cell_type": "code",
   "execution_count": 3,
   "metadata": {},
   "outputs": [
    {
     "name": "stdout",
     "output_type": "stream",
     "text": [
      "3\n"
     ]
    }
   ],
   "source": [
    "s = input()\n",
    "total = 0\n",
    "for i in s:\n",
    "    if i=='x':\n",
    "        total+=1\n",
    "print(total)\n"
   ]
  },
  {
   "cell_type": "code",
   "execution_count": 4,
   "metadata": {},
   "outputs": [
    {
     "name": "stdout",
     "output_type": "stream",
     "text": [
      "5.88889\n"
     ]
    }
   ],
   "source": [
    "n = 5.8888888888\n",
    "nn = format(n,\".5f\")\n",
    "print(nn)"
   ]
  },
  {
   "cell_type": "code",
   "execution_count": 8,
   "metadata": {},
   "outputs": [
    {
     "name": "stdout",
     "output_type": "stream",
     "text": [
      "3.14000\n"
     ]
    }
   ],
   "source": [
    "r = float(input())\n",
    "C = 2 * 3.14159 * r\n",
    "ratio = C / (2 * r)\n",
    "print(format(ratio, \".5f\"))\n"
   ]
  },
  {
   "cell_type": "code",
   "execution_count": 4,
   "metadata": {},
   "outputs": [
    {
     "name": "stdout",
     "output_type": "stream",
     "text": [
      "3\n"
     ]
    }
   ],
   "source": [
    "\n",
    "numbers = [int(x) for x in input().split()]\n",
    "\n",
    "for i in numbers:\n",
    "    if len(numbers)>=3 and len(numbers)<=10:\n",
    "        if i==2:\n",
    "            print(numbers[i])\n"
   ]
  },
  {
   "cell_type": "markdown",
   "metadata": {},
   "source": [
    "1-2+3-4..............n"
   ]
  },
  {
   "cell_type": "code",
   "execution_count": 1,
   "metadata": {},
   "outputs": [
    {
     "name": "stdout",
     "output_type": "stream",
     "text": [
      "2\n"
     ]
    }
   ],
   "source": [
    "n = int(input())\n",
    "sum = 0\n",
    "for i in range(1,n+1):\n",
    "    if i%2!=0:\n",
    "        sum +=i\n",
    "    else:\n",
    "        sum -=i\n",
    "print(sum)\n"
   ]
  },
  {
   "cell_type": "markdown",
   "metadata": {},
   "source": [
    "x^1+x^2+x^3+........."
   ]
  },
  {
   "cell_type": "code",
   "execution_count": 2,
   "metadata": {},
   "outputs": [
    {
     "name": "stdout",
     "output_type": "stream",
     "text": [
      "14\n"
     ]
    }
   ],
   "source": [
    "n = int(input())\n",
    "x = int(input())\n",
    "sum = 0\n",
    "for i in range(1,n+1):\n",
    "    sum += x**i\n",
    "print(sum)"
   ]
  },
  {
   "cell_type": "markdown",
   "metadata": {},
   "source": [
    "1/4 + 1/8 + 1/12+.............n"
   ]
  },
  {
   "cell_type": "code",
   "execution_count": 5,
   "metadata": {},
   "outputs": [
    {
     "name": "stdout",
     "output_type": "stream",
     "text": [
      "0.4583333333333333\n"
     ]
    }
   ],
   "source": [
    "n = int(input())\n",
    "sum = 0\n",
    "for i in range(1,n+1):\n",
    "    sum += 1/(4*i)\n",
    "\n",
    "print(sum)"
   ]
  },
  {
   "cell_type": "code",
   "execution_count": 6,
   "metadata": {},
   "outputs": [
    {
     "name": "stdout",
     "output_type": "stream",
     "text": [
      "44.43730158730159\n"
     ]
    }
   ],
   "source": [
    "n = int(input())\n",
    "sum = 0\n",
    "for i in range(10,0,-1):\n",
    "    sum += n/i\n",
    "    n+=2\n",
    "print(sum)"
   ]
  },
  {
   "cell_type": "code",
   "execution_count": 9,
   "metadata": {},
   "outputs": [
    {
     "name": "stdout",
     "output_type": "stream",
     "text": [
      "1.6666666666666667\n"
     ]
    }
   ],
   "source": [
    "def find_fact(n):\n",
    "    if n==1:\n",
    "        return 1\n",
    "    return n*find_fact(n-1)\n",
    "find_fact(3)\n",
    "\n",
    "n = int(input())\n",
    "x = int(input())\n",
    "sum = 0\n",
    "for i in range(1,n+1):\n",
    "    sum += (x**i)/find_fact(i)\n",
    "print(sum)"
   ]
  },
  {
   "cell_type": "code",
   "execution_count": 11,
   "metadata": {},
   "outputs": [
    {
     "name": "stdout",
     "output_type": "stream",
     "text": [
      "*\n",
      "**\n",
      "***\n",
      "****\n",
      "*****\n"
     ]
    }
   ],
   "source": [
    "n = int(input())\n",
    "for i in range(n):\n",
    "    for j in range(i+1):\n",
    "        print(\"*\", end=\"\")\n",
    "    print()\n",
    "    "
   ]
  },
  {
   "cell_type": "code",
   "execution_count": 18,
   "metadata": {},
   "outputs": [
    {
     "name": "stdout",
     "output_type": "stream",
     "text": [
      " *****\n",
      "  ****\n",
      "   ***\n",
      "    **\n",
      "     *\n"
     ]
    }
   ],
   "source": [
    "n = int(input())\n",
    "for i in range(n):\n",
    "    for j in range(i+1):\n",
    "        print(\" \", end=\"\")\n",
    "\n",
    "    for j in range(n-i):\n",
    "        print(\"*\",end=\"\")\n",
    "    print()\n",
    "        \n"
   ]
  },
  {
   "cell_type": "code",
   "execution_count": 20,
   "metadata": {},
   "outputs": [
    {
     "name": "stdout",
     "output_type": "stream",
     "text": [
      " *********\n",
      "  *******\n",
      "   *****\n",
      "    ***\n",
      "     *\n"
     ]
    }
   ],
   "source": [
    "n = int(input())\n",
    "for i in range(n):\n",
    "    for j in range(i+1):\n",
    "        print(\" \", end=\"\")\n",
    "\n",
    "    for j in range(n-i):\n",
    "        print(\"*\",end=\"\")\n",
    "    \n",
    "    for j in range(n-i-1):\n",
    "        print(\"*\",end=\"\")\n",
    "    print()\n",
    "        "
   ]
  },
  {
   "cell_type": "code",
   "execution_count": 21,
   "metadata": {},
   "outputs": [
    {
     "name": "stdout",
     "output_type": "stream",
     "text": [
      "     *\n",
      "    ***\n",
      "   *****\n",
      "  *******\n",
      " *********\n"
     ]
    }
   ],
   "source": [
    "n = int(input())\n",
    "for i in range(n):\n",
    "    for j in range(n-i):\n",
    "        print(\" \", end=\"\")\n",
    "\n",
    "    for j in range(i+1):\n",
    "        print(\"*\",end=\"\")\n",
    "    \n",
    "    for j in range(i):\n",
    "        print(\"*\",end=\"\")\n",
    "    print()"
   ]
  },
  {
   "cell_type": "code",
   "execution_count": 28,
   "metadata": {},
   "outputs": [
    {
     "name": "stdout",
     "output_type": "stream",
     "text": [
      "[[30, 38, 44], [30, 47, 37], [46, 46, 34], [31, 48, 40], [31, 48, 42]]\n"
     ]
    }
   ],
   "source": [
    "import random\n",
    "list1 = []\n",
    "for i in range(5):\n",
    "    list1.append([0]*3)\n",
    "#print(list1)\n",
    "for i in range(5):\n",
    "    for j in range(3):\n",
    "        list1[i][j] = random.randint(30,50)\n",
    "print(list1)"
   ]
  },
  {
   "cell_type": "code",
   "execution_count": 35,
   "metadata": {},
   "outputs": [
    {
     "name": "stdout",
     "output_type": "stream",
     "text": [
      "[[30, 49, 45], [30, 30, 43], [40, 30, 37], [40, 33, 30]]\n",
      "[[37, 50, 37], [33, 32, 43], [31, 46, 30], [50, 32, 45]]\n",
      "[[-7, -1, 8], [-3, -2, 0], [9, -16, 7], [-10, 1, -15]]\n"
     ]
    }
   ],
   "source": [
    "import random\n",
    "list1 = []\n",
    "list2 = []\n",
    "for i in range(4):\n",
    "    list1.append([0]*3)\n",
    "    list2.append([0]*3)\n",
    "#print(list1)\n",
    "for i in range(4):\n",
    "    for j in range(3):\n",
    "        list1[i][j] = random.randint(30,50)\n",
    "print(list1)\n",
    "\n",
    "for i in range(4):\n",
    "    for j in range(3):\n",
    "        list2[i][j] = random.randint(30,50)\n",
    "print(list2)\n",
    "list3 = []\n",
    "for i in range(len(list1)):\n",
    "    row = []\n",
    "    for j in range(len(list1[0])):\n",
    "        row.append(list1[i][j] - list2[i][j])\n",
    "    list3.append(row)\n",
    "print(list3)"
   ]
  },
  {
   "cell_type": "code",
   "execution_count": 3,
   "metadata": {},
   "outputs": [
    {
     "name": "stdout",
     "output_type": "stream",
     "text": [
      "[[56.10977322511176], [59.69978207691654], [46.73751653941647], [41.724932288834225], [54.75354884005998], [66.82699588949245], [55.04856893924584], [50.79075525645156], [51.12486589771045], [59.11849172510972], [51.15532304250682], [57.033548108509976], [62.99382998025952], [46.358613521463724], [49.14450344256723]]\n"
     ]
    }
   ],
   "source": [
    "import random\n",
    "\n",
    "my_list = []\n",
    "\n",
    "for i in range(15):\n",
    "    my_list.append([0] * 10)\n",
    "\n",
    "for i in range(15):\n",
    "    for j in range(10):\n",
    "        my_list[i][j] = random.uniform(1.0, 100.0)\n",
    "\n",
    "#print(my_list)\n",
    "\n",
    "list2 = []\n",
    "\n",
    "for row in my_list:\n",
    "    row_avg = sum(row) / float(len(row))\n",
    "    list2.append([row_avg])\n",
    "\n",
    "print(list2)\n"
   ]
  },
  {
   "cell_type": "code",
   "execution_count": 63,
   "metadata": {},
   "outputs": [
    {
     "name": "stdout",
     "output_type": "stream",
     "text": [
      "[[32, 2, 18, 7, 15, 31, 27], [20, 38, 4, 35, 31, 4, 23], [1, 9, 21, 2, 17, 17, 25], [15, 37, 21, 28, 24, 26, 10], [46, 19, 33, 2, 2, 18, 50]]\n",
      "[32, 2, 18, 7, 15, 31, 27, 20, 38, 4, 35, 31, 4, 23, 1, 9, 21, 2, 17, 17, 25, 15, 37, 21, 28, 24, 26, 10, 46, 19, 33, 2, 2, 18, 50]\n"
     ]
    }
   ],
   "source": [
    "import random\n",
    "\n",
    "my_list = []\n",
    "\n",
    "for i in range(5):\n",
    "    my_list.append([0] * 7)\n",
    "\n",
    "for i in range(5):\n",
    "    for j in range(7):\n",
    "        my_list[i][j] = random.randint(1,50)\n",
    "\n",
    "print(my_list)\n",
    "\n",
    "list2 = []\n",
    "\n",
    "for row in my_list:\n",
    "    for i in row:\n",
    "        list2.append(i)\n",
    "\n",
    "print(list2)"
   ]
  },
  {
   "cell_type": "code",
   "execution_count": 77,
   "metadata": {},
   "outputs": [
    {
     "name": "stdout",
     "output_type": "stream",
     "text": [
      "[[9, 19, 33, 34, 20, 23, 39], [27, 7, 33, 45, 47, 30, 39], [26, 28, 25, 5, 39, 41, 10], [4, 43, 12, 34, 36, 37, 24], [42, 4, 46, 8, 5, 41, 4]]\n",
      "814\n"
     ]
    }
   ],
   "source": [
    "import random\n",
    "\n",
    "my_list = []\n",
    "\n",
    "for i in range(5):\n",
    "    my_list.append([0] * 7)\n",
    "\n",
    "for i in range(5):\n",
    "    for j in range(7):\n",
    "        my_list[i][j] = random.randint(1,50)\n",
    "\n",
    "print(my_list)\n",
    "\n",
    "list2 = []\n",
    "count = 0\n",
    "\n",
    "for row in my_list:\n",
    "    for i in row:\n",
    "       for k in range(2, i):\n",
    "        \n",
    "        if i == 2 or i == 1:\n",
    "           count += 1\n",
    "        for i in range(2,i):\n",
    "           if i % 2 == 0:\n",
    "              break\n",
    "\n",
    "           else:              \n",
    "            count += 1\n",
    "\n",
    "print(count)"
   ]
  },
  {
   "cell_type": "code",
   "execution_count": 86,
   "metadata": {},
   "outputs": [
    {
     "name": "stdout",
     "output_type": "stream",
     "text": [
      "18 7 25\n",
      "18 7 25\n",
      "44 11 80\n",
      "55 22 157\n"
     ]
    }
   ],
   "source": [
    "class Test:\n",
    "    def __init__(self):\n",
    "        self.sum = 0\n",
    "        self.y = 0\n",
    "    def methoda(self):\n",
    "        x=0\n",
    "        y=0\n",
    "        y=y+7\n",
    "        x=y+11\n",
    "        self.sum=x+y\n",
    "        print(x,y,self.sum)\n",
    "    def methodb(self):\n",
    "        x=0\n",
    "        self.y=self.y+11\n",
    "        x=x+33+self.y\n",
    "        self.sum = self.sum+x+self.y\n",
    "        print(x,self.y,self.sum)\n",
    "t1 = Test()\n",
    "t1.methoda()\n",
    "t1.methoda()\n",
    "t1.methodb()\n",
    "t1.methodb()"
   ]
  },
  {
   "cell_type": "code",
   "execution_count": 5,
   "metadata": {},
   "outputs": [
    {
     "data": {
      "text/plain": [
       "False"
      ]
     },
     "execution_count": 5,
     "metadata": {},
     "output_type": "execute_result"
    }
   ],
   "source": [
    "def ifpal(n):\n",
    "    rev = str(n)\n",
    "    if rev == rev[::-1]:\n",
    "        return True\n",
    "    return False\n",
    "ifpal(98)"
   ]
  }
 ],
 "metadata": {
  "kernelspec": {
   "display_name": "Python 3",
   "language": "python",
   "name": "python3"
  },
  "language_info": {
   "codemirror_mode": {
    "name": "ipython",
    "version": 3
   },
   "file_extension": ".py",
   "mimetype": "text/x-python",
   "name": "python",
   "nbconvert_exporter": "python",
   "pygments_lexer": "ipython3",
   "version": "3.11.4"
  }
 },
 "nbformat": 4,
 "nbformat_minor": 2
}
