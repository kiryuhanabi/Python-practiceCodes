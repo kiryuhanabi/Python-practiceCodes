{
 "cells": [
  {
   "cell_type": "markdown",
   "metadata": {},
   "source": [
    "1."
   ]
  },
  {
   "cell_type": "code",
   "execution_count": null,
   "metadata": {},
   "outputs": [],
   "source": [
    "print(\"*********\"\"\\n\",\"** Hello World**\"\"\\n\",\"*********\")"
   ]
  },
  {
   "cell_type": "markdown",
   "metadata": {},
   "source": [
    "2."
   ]
  },
  {
   "cell_type": "markdown",
   "metadata": {},
   "source": [
    "If the ids of two variables are the same then they have to be immutable objects like integers,floats,strings and tuples. Since the state of immutable objects can't be changed, so their ids don't change and stays the same. An example given below."
   ]
  },
  {
   "cell_type": "code",
   "execution_count": 6,
   "metadata": {},
   "outputs": [
    {
     "name": "stdout",
     "output_type": "stream",
     "text": [
      "140731448222632\n",
      "140731448222632\n"
     ]
    }
   ],
   "source": [
    "a = 5\n",
    "b = 5\n",
    "print(id(5))\n",
    "print(id(5))"
   ]
  },
  {
   "cell_type": "markdown",
   "metadata": {},
   "source": [
    "3."
   ]
  },
  {
   "cell_type": "code",
   "execution_count": null,
   "metadata": {},
   "outputs": [],
   "source": [
    "a,b,c,d,result=5,2,4,-10,0\n",
    "result = a+b**(c-d)*b/a #result is initially 0. The calculation (5)+(2^(4+10))x.4=6558.6 . Calculate kore check kore neo. Run koreo dekho, same hobe.\n",
    "print(result)"
   ]
  },
  {
   "cell_type": "markdown",
   "metadata": {},
   "source": [
    "4 and 5 in pic. Ask for further information"
   ]
  },
  {
   "cell_type": "markdown",
   "metadata": {},
   "source": [
    "6."
   ]
  },
  {
   "cell_type": "markdown",
   "metadata": {},
   "source": [
    "It won't necessarily produce an error but the program will run endlessly which indalidates such a code. Since 1 is always providing True , the loop will run endlessly. So no point in keeping the while loop."
   ]
  },
  {
   "cell_type": "code",
   "execution_count": null,
   "metadata": {},
   "outputs": [],
   "source": [
    "x = int(input(\"enter a number: \"))\n",
    "while (1):\n",
    "    print(f'x={x}')\n",
    "    x = int(input(\"enter a number: \"))"
   ]
  },
  {
   "cell_type": "code",
   "execution_count": 2,
   "metadata": {},
   "outputs": [
    {
     "name": "stdout",
     "output_type": "stream",
     "text": [
      "x=5\n"
     ]
    }
   ],
   "source": [
    "#corrected\n",
    "x = int(input(\"enter a number: \"))\n",
    "print(f'x={x}')"
   ]
  },
  {
   "cell_type": "markdown",
   "metadata": {},
   "source": [
    "7."
   ]
  },
  {
   "cell_type": "code",
   "execution_count": 4,
   "metadata": {},
   "outputs": [
    {
     "name": "stdout",
     "output_type": "stream",
     "text": [
      "1^2 +  3^2 +  5^2 +   = 35\n"
     ]
    }
   ],
   "source": [
    "N = int(input(\"Enter a number: \"))\n",
    "i = 1\n",
    "sum = 0 #we have to initialize the sum to value 0(error 1) logical error\n",
    "while i<=N:\n",
    "    if i%2!=0: #since we are working with odd values the syntax has to be != (error 2) syntax error\n",
    "        sum += pow(i,2)\n",
    "        print(f'{i}^2 + ', end = \" \")\n",
    "    i+=1 # i+=1 has to be out of the if loop(error 3) logical error\n",
    "print(f' = {sum}')# we have to add f before the quotation and end the print function with closing parenthesis(error 4 and 5) 2 syntax errors"
   ]
  },
  {
   "cell_type": "markdown",
   "metadata": {},
   "source": [
    "8."
   ]
  },
  {
   "cell_type": "code",
   "execution_count": 9,
   "metadata": {},
   "outputs": [
    {
     "name": "stdout",
     "output_type": "stream",
     "text": [
      "1 / 1 + 1 / 2 + 1 / 3 + 1 / 4 +  =  2.083333333333333\n"
     ]
    }
   ],
   "source": [
    "n=int(input(\"Enter n: \"))\n",
    "i=1\n",
    "sum=0\n",
    "while i <=n:\n",
    "    sum+=(1/i)\n",
    "    print(1,\"/\",i, \"+\",end = \" \")\n",
    "    i+=1\n",
    "print(\" = \",sum)"
   ]
  },
  {
   "cell_type": "markdown",
   "metadata": {},
   "source": [
    "9."
   ]
  },
  {
   "cell_type": "code",
   "execution_count": 2,
   "metadata": {},
   "outputs": [
    {
     "name": "stdout",
     "output_type": "stream",
     "text": [
      "BUI fo tnemtraped ESC eht ni gniyduts ma I\n"
     ]
    }
   ],
   "source": [
    "sentence = \"I am studying in the CSE department of IUB\"\n",
    "while sentence:\n",
    "    res = sentence[::-1] #always remember [::-1] die reverse kora jay\n",
    "    break\n",
    "print(res)"
   ]
  },
  {
   "cell_type": "markdown",
   "metadata": {},
   "source": [
    "10."
   ]
  },
  {
   "cell_type": "code",
   "execution_count": 32,
   "metadata": {},
   "outputs": [
    {
     "name": "stdout",
     "output_type": "stream",
     "text": [
      "15 is not a prime number\n"
     ]
    }
   ],
   "source": [
    "n = int(input(\"Enter a number between 0 and 50: \"))\n",
    "\n",
    "if n < 0 or n > 50:\n",
    "    print(\"Number out of range! Enter a number between 0 and 50.\")\n",
    "else:\n",
    "    if n == 1:\n",
    "        print(\"Not prime\")\n",
    "    else:\n",
    "        flag = True\n",
    "        for i in range(2,n):\n",
    "            if n % i == 0:\n",
    "                flag = False\n",
    "                break\n",
    "\n",
    "        if flag==True:\n",
    "            print(n,\"is a prime number\")\n",
    "        else:\n",
    "            print(n,\"is not a prime number\")\n"
   ]
  }
 ],
 "metadata": {
  "kernelspec": {
   "display_name": "Python 3",
   "language": "python",
   "name": "python3"
  },
  "language_info": {
   "codemirror_mode": {
    "name": "ipython",
    "version": 3
   },
   "file_extension": ".py",
   "mimetype": "text/x-python",
   "name": "python",
   "nbconvert_exporter": "python",
   "pygments_lexer": "ipython3",
   "version": "3.11.4"
  },
  "orig_nbformat": 4
 },
 "nbformat": 4,
 "nbformat_minor": 2
}
