{
 "cells": [
  {
   "cell_type": "code",
   "execution_count": 5,
   "metadata": {},
   "outputs": [
    {
     "name": "stdout",
     "output_type": "stream",
     "text": [
      "The highest palindrome from the product of two 3 digit numbers is: 906609\n"
     ]
    }
   ],
   "source": [
    "def is_palindrome(number):\n",
    "    \"\"\"Checks if a number is a palindrome.\"\"\"\n",
    "    # Convert the number to a string\n",
    "    number_str = str(number)\n",
    "    \n",
    "    # Check if the string is equal to its reverse\n",
    "    if number_str == number_str[::-1]:\n",
    "        return True\n",
    "    else:\n",
    "        return False\n",
    "\n",
    "def find_highest_palindrome(n):\n",
    "    \"\"\"Finds the highest palindrome from the product of two n-digit numbers.\"\"\"\n",
    "    max_product = 0\n",
    "    max_palindrome = 0\n",
    "\n",
    "    # Loop through all possible combinations of n-digit numbers\n",
    "    for i in range(10**(n-1), 10**n):\n",
    "        for j in range(10**(n-1), 10**n):\n",
    "            product = i * j\n",
    "\n",
    "            # Check if the product is a palindrome and larger than the current maximum palindrome\n",
    "            if product > max_product and is_palindrome(product):\n",
    "                max_product = product\n",
    "                max_palindrome = product\n",
    "\n",
    "    return max_palindrome\n",
    "\n",
    "# Get the number of digits from the user\n",
    "n = int(input(\"Enter the number of digits: \"))\n",
    "\n",
    "# Find the highest palindrome\n",
    "highest_palindrome = find_highest_palindrome(n)\n",
    "\n",
    "# Print the result\n",
    "print(\"The highest palindrome from the product of two\", n, \"digit numbers is:\", highest_palindrome)\n"
   ]
  },
  {
   "cell_type": "code",
   "execution_count": 11,
   "metadata": {},
   "outputs": [
    {
     "data": {
      "text/plain": [
       "906609"
      ]
     },
     "execution_count": 11,
     "metadata": {},
     "output_type": "execute_result"
    }
   ],
   "source": [
    "def palindrome(number):\n",
    "    reverse = str(number)\n",
    "\n",
    "    if reverse == reverse[::-1]:\n",
    "        return True\n",
    "    else:\n",
    "        return False\n",
    "    \n",
    "def findmax_palindrome(n):\n",
    "    max_palindrome = 0\n",
    "    max_product = 0\n",
    "\n",
    "    for i in range(10**(n-1),10**n):\n",
    "        for j in range(10**(n-1),10**n):\n",
    "            product = i*j\n",
    "\n",
    "            if product > max_product and palindrome(product):\n",
    "                max_product = product\n",
    "                max_palindrome = product\n",
    "    return max_palindrome\n",
    "\n",
    "findmax_palindrome(3)"
   ]
  }
 ],
 "metadata": {
  "kernelspec": {
   "display_name": "Python 3",
   "language": "python",
   "name": "python3"
  },
  "language_info": {
   "codemirror_mode": {
    "name": "ipython",
    "version": 3
   },
   "file_extension": ".py",
   "mimetype": "text/x-python",
   "name": "python",
   "nbconvert_exporter": "python",
   "pygments_lexer": "ipython3",
   "version": "3.11.4"
  },
  "orig_nbformat": 4
 },
 "nbformat": 4,
 "nbformat_minor": 2
}
