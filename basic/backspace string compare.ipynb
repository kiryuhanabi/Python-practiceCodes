{
 "cells": [
  {
   "cell_type": "code",
   "execution_count": 8,
   "metadata": {},
   "outputs": [
    {
     "name": "stdout",
     "output_type": "stream",
     "text": [
      "True\n"
     ]
    }
   ],
   "source": [
    "# Python implementation to Check if\n",
    "# two strings after processing\n",
    "# backspace character are equal or not\n",
    "\n",
    "# function to compare the two strings\n",
    "def compare(s, t):\n",
    "\t# function to remove backspaces and return refined string\n",
    "\tdef remove_backspace(string):\n",
    "\t\ta = []\n",
    "\t\tfor i in string:\n",
    "\t\t\tif i != \"#\":\n",
    "\t\t\t\ta.append(i)\n",
    "\t\t\telse:\n",
    "\t\t\t\tif len(a):\n",
    "\t\t\t\t\ta.pop()\n",
    "\t\treturn \"\".join(a)\n",
    "\n",
    "\ts, t = remove_backspace(s), remove_backspace(t) #remove backspaces from the strings\n",
    "\n",
    "\treturn s == t #return True if they are equal\n",
    "\n",
    "# Driver code\n",
    "\n",
    "\n",
    "# initialise two strings\n",
    "s = \"geee#e#ks\"\n",
    "t = \"gee##eeks\"\n",
    "\n",
    "if (compare(s, t)):\n",
    "\tprint(\"True\")\n",
    "else:\n",
    "\tprint(\"False\")\n",
    "\n",
    "\n",
    "# This code is Contributed by Vivek Maddeshiya\n"
   ]
  },
  {
   "attachments": {},
   "cell_type": "markdown",
   "metadata": {},
   "source": [
    "6. Backspace string compare"
   ]
  },
  {
   "cell_type": "code",
   "execution_count": 11,
   "metadata": {},
   "outputs": [
    {
     "name": "stdout",
     "output_type": "stream",
     "text": [
      "True\n"
     ]
    }
   ],
   "source": [
    "def compare(s,t):\n",
    "    def remove_(string):\n",
    "        a = []\n",
    "        for i in string:\n",
    "            if i!= \"#\":\n",
    "                a.append(i)\n",
    "            else:\n",
    "                if len(a): #if lenght of stack is not zero\n",
    "                    a.pop()\n",
    "            return \"\".join(a)\n",
    "    s = remove_(s)\n",
    "    t = remove_(t)\n",
    "    return s==t #returns boolean value\n",
    "s = input()\n",
    "t= input()\n",
    "y=compare(s,t)\n",
    "print(y)"
   ]
  }
 ],
 "metadata": {
  "kernelspec": {
   "display_name": "Python 3",
   "language": "python",
   "name": "python3"
  },
  "language_info": {
   "codemirror_mode": {
    "name": "ipython",
    "version": 3
   },
   "file_extension": ".py",
   "mimetype": "text/x-python",
   "name": "python",
   "nbconvert_exporter": "python",
   "pygments_lexer": "ipython3",
   "version": "3.11.4"
  },
  "orig_nbformat": 4
 },
 "nbformat": 4,
 "nbformat_minor": 2
}
