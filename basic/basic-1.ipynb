{
 "cells": [
  {
   "cell_type": "markdown",
   "metadata": {},
   "source": [
    "1. Take an integer as input and write a program to find out whether it's a odd or even number."
   ]
  },
  {
   "cell_type": "code",
   "execution_count": 16,
   "metadata": {},
   "outputs": [
    {
     "name": "stdout",
     "output_type": "stream",
     "text": [
      "none\n"
     ]
    }
   ],
   "source": [
    "n = int(input())\n",
    "\n",
    "if n==0:\n",
    "    print(\"none\")\n",
    "elif n%2==0:\n",
    "    print(\"even\")\n",
    "else:\n",
    "    print(\"the number is odd\")\n",
    "\n",
    "\n",
    "\n",
    "\n",
    "\n",
    "\n",
    "\n",
    "\n",
    "\n",
    "\n",
    "\n",
    "\n",
    "\n"
   ]
  },
  {
   "cell_type": "code",
   "execution_count": 26,
   "metadata": {},
   "outputs": [],
   "source": [
    "n = int(input())\n",
    "\n",
    "if n==0:\n",
    "    print(\"none\")\n",
    "\n",
    "while n!= 0:\n",
    "    if n%2==0:\n",
    "        print(\"the number is even\")\n",
    "        break\n",
    "    else:\n",
    "        print(\"the number is odd\")\n",
    "        break"
   ]
  },
  {
   "cell_type": "code",
   "execution_count": 3,
   "metadata": {},
   "outputs": [
    {
     "name": "stdout",
     "output_type": "stream",
     "text": [
      "*********\n",
      " ** Hello World**\n",
      " *********\n"
     ]
    }
   ],
   "source": [
    "print(\"*********\"\"\\n\",\"** Hello World**\"\"\\n\",\"*********\")"
   ]
  }
 ],
 "metadata": {
  "kernelspec": {
   "display_name": "Python 3",
   "language": "python",
   "name": "python3"
  },
  "language_info": {
   "codemirror_mode": {
    "name": "ipython",
    "version": 3
   },
   "file_extension": ".py",
   "mimetype": "text/x-python",
   "name": "python",
   "nbconvert_exporter": "python",
   "pygments_lexer": "ipython3",
   "version": "3.11.4"
  },
  "orig_nbformat": 4
 },
 "nbformat": 4,
 "nbformat_minor": 2
}
