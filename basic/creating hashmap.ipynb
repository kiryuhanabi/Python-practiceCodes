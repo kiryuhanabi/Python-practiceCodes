{
 "cells": [
  {
   "cell_type": "code",
   "execution_count": 1,
   "metadata": {},
   "outputs": [
    {
     "name": "stdout",
     "output_type": "stream",
     "text": [
      "5\n",
      "The key 'orange' exists.\n",
      "apple\n",
      "banana\n",
      "orange\n",
      "watermelon\n",
      "5\n",
      "10\n",
      "7\n",
      "4\n",
      "apple 5\n",
      "banana 10\n",
      "orange 7\n",
      "watermelon 4\n"
     ]
    }
   ],
   "source": [
    "# Creating a hashmap/dictionary\n",
    "hashmap = {\n",
    "    'apple': 5,\n",
    "    'banana': 3,\n",
    "    'orange': 7,\n",
    "    'grape': 2\n",
    "}\n",
    "\n",
    "# Accessing values using keys\n",
    "print(hashmap['apple'])  # Output: 5\n",
    "\n",
    "# Modifying a value\n",
    "hashmap['banana'] = 10\n",
    "\n",
    "# Adding a new key-value pair\n",
    "hashmap['watermelon'] = 4\n",
    "\n",
    "# Removing a key-value pair\n",
    "del hashmap['grape']\n",
    "\n",
    "# Checking if a key exists\n",
    "if 'orange' in hashmap:\n",
    "    print(\"The key 'orange' exists.\")\n",
    "\n",
    "# Iterating over keys\n",
    "for key in hashmap.keys():\n",
    "    print(key)\n",
    "\n",
    "# Iterating over values\n",
    "for value in hashmap.values():\n",
    "    print(value)\n",
    "\n",
    "# Iterating over key-value pairs\n",
    "for key, value in hashmap.items():\n",
    "    print(key, value)\n"
   ]
  }
 ],
 "metadata": {
  "kernelspec": {
   "display_name": "Python 3",
   "language": "python",
   "name": "python3"
  },
  "language_info": {
   "codemirror_mode": {
    "name": "ipython",
    "version": 3
   },
   "file_extension": ".py",
   "mimetype": "text/x-python",
   "name": "python",
   "nbconvert_exporter": "python",
   "pygments_lexer": "ipython3",
   "version": "3.11.4"
  },
  "orig_nbformat": 4
 },
 "nbformat": 4,
 "nbformat_minor": 2
}
