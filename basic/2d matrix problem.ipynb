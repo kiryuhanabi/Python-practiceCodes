{
 "cells": [
  {
   "cell_type": "code",
   "execution_count": 2,
   "metadata": {},
   "outputs": [
    {
     "name": "stdout",
     "output_type": "stream",
     "text": [
      "1\n",
      "2\n",
      "3\n",
      "\n",
      "4\n",
      "5\n",
      "6\n",
      "\n",
      "7\n",
      "8\n",
      "9\n",
      "\n"
     ]
    }
   ],
   "source": [
    "matrix = [[1, 2, 3],\n",
    "          [4, 5, 6],\n",
    "          [7, 8, 9]]\n",
    "\n",
    "for row in matrix:\n",
    "    for element in row:\n",
    "        print(element)\n",
    "    print ()\n",
    "# Output:\n",
    "# 1 2 3\n",
    "# 4 5 6\n",
    "# 7 8 9\n",
    "\n"
   ]
  },
  {
   "cell_type": "code",
   "execution_count": 2,
   "metadata": {},
   "outputs": [
    {
     "name": "stdout",
     "output_type": "stream",
     "text": [
      "[[1101, 377.5], [1122, 376.25], [1000, 340.0], [1131, 388.3333333333333], [2121, 316.6666666666667], [2221, 367.5], [2234, 373.75]]\n"
     ]
    }
   ],
   "source": [
    "def calculate_average_matrix(matrix):\n",
    "    average_matrix = []  # List to store the average matrix\n",
    "\n",
    "    for row in matrix:\n",
    "        row_average = sum(row[1:]) / (len(row) - 1)  # Calculate the average excluding the first element\n",
    "        #average_row = [row[0] , row_average] # Create the average row\n",
    "        average_matrix.append([row[0],row_average])  # Append the average row to the average matrix\n",
    "\n",
    "    return average_matrix\n",
    "\n",
    "\n",
    "# Example usage\n",
    "matrix2 = [[1101,365,375,400,370],\n",
    "            [1122,360,370,385,390],\n",
    "            [1000,385,390,360,225],\n",
    "            [1131,390,375,400],\n",
    "            [2121,225,350,375],\n",
    "            [2221,370,350,375,375],\n",
    "            [2234,350,375,400,370]]\n",
    "\n",
    "average_matrix = calculate_average_matrix(matrix2)\n",
    "\n",
    "# Print the average matrix\n",
    "\n",
    "print(average_matrix)\n",
    "\n",
    "\n",
    "\n",
    "\n"
   ]
  },
  {
   "cell_type": "code",
   "execution_count": 2,
   "metadata": {},
   "outputs": [
    {
     "name": "stdout",
     "output_type": "stream",
     "text": [
      "ID and avg , 1101 , 377.5\n",
      "ID and avg , 1122 , 376.25\n",
      "ID and avg , 1000 , 340.0\n",
      "ID and avg , 1131 , 388.3333333333333\n",
      "ID and avg , 2121 , 316.6666666666667\n",
      "ID and avg , 2221 , 367.5\n",
      "ID and avg , 2234 , 373.75\n",
      "None\n"
     ]
    }
   ],
   "source": [
    "def calculateavg(matrix):\n",
    "    avgmatrix = []\n",
    "    for row in matrix:\n",
    "        avg = sum(row[1:])/(len(row)-1)\n",
    "        rowofavg = [row[0],avg]\n",
    "        avgmatrix.append(rowofavg)\n",
    "    return avgmatrix\n",
    "    \n",
    "studentnumbers = [[1101,365,375,400,370],\n",
    "                  [1122,360,370,385,390],\n",
    "                  [1000,385,390,360,225],\n",
    "                  [1131,390,375,400],\n",
    "                  [2121,225,350,375],\n",
    "                  [2221,370,350,375,375],\n",
    "                  [2234,350,375,400,370]]\n",
    "\n",
    "new_matrix = calculateavg(studentnumbers)\n",
    "\n",
    "\n",
    "def calculate(A):\n",
    "    \n",
    "  \n",
    "    for row in A:\n",
    "        print(\"ID and avg\", *row, sep = \" , \")\n",
    "\n",
    "A = [[1101, 377.5],\n",
    "    [1122, 376.25],\n",
    "    [1000, 340.0],\n",
    "    [1131, 388.3333333333333],\n",
    "    [2121, 316.6666666666667],\n",
    "    [2221, 367.5],\n",
    "    [2234, 373.75]]\n",
    "print(calculate(A))"
   ]
  }
 ],
 "metadata": {
  "kernelspec": {
   "display_name": "Python 3",
   "language": "python",
   "name": "python3"
  },
  "language_info": {
   "codemirror_mode": {
    "name": "ipython",
    "version": 3
   },
   "file_extension": ".py",
   "mimetype": "text/x-python",
   "name": "python",
   "nbconvert_exporter": "python",
   "pygments_lexer": "ipython3",
   "version": "3.11.4"
  },
  "orig_nbformat": 4
 },
 "nbformat": 4,
 "nbformat_minor": 2
}
